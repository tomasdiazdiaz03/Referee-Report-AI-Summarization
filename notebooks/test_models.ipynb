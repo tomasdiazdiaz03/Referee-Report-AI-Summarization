{
 "cells": [
  {
   "cell_type": "markdown",
   "id": "87661d67",
   "metadata": {},
   "source": [
    "# Notebook test de modelos"
   ]
  },
  {
   "cell_type": "markdown",
   "id": "20663faf",
   "metadata": {},
   "source": [
    "## Imports"
   ]
  },
  {
   "cell_type": "code",
   "execution_count": 1,
   "id": "ac97f84a",
   "metadata": {},
   "outputs": [
    {
     "name": "stderr",
     "output_type": "stream",
     "text": [
      "c:\\Users\\Musatom\\Documents\\Universidad\\Master\\TFM\\vtfm\\Lib\\site-packages\\tqdm\\auto.py:21: TqdmWarning: IProgress not found. Please update jupyter and ipywidgets. See https://ipywidgets.readthedocs.io/en/stable/user_install.html\n",
      "  from .autonotebook import tqdm as notebook_tqdm\n"
     ]
    }
   ],
   "source": [
    "import json\n",
    "import ollama\n",
    "import evaluate\n",
    "from bert_score import score as bertscore\n",
    "from tqdm import tqdm\n",
    "import matplotlib.pyplot as plt\n",
    "import seaborn as sns\n",
    "import pandas as pd\n",
    "\n",
    "\n",
    "import sys\n",
    "import os\n",
    "\n",
    "# Agregar el directorio raíz del proyecto al sys.path\n",
    "notebook_dir = os.getcwd()  # Ruta del notebook actual\n",
    "project_root = os.path.abspath(os.path.join(notebook_dir, \"..\"))  # Subir un nivel al directorio raíz\n",
    "sys.path.append(project_root)\n",
    "# Importar la función desde rule_phrase_system.py\n",
    "from src.models.rule_phrase_system import generar_resumen_pdf"
   ]
  },
  {
   "cell_type": "markdown",
   "id": "ac80f004",
   "metadata": {},
   "source": [
    "## Configuración y definición de funciones"
   ]
  },
  {
   "cell_type": "code",
   "execution_count": 2,
   "id": "c660e331",
   "metadata": {},
   "outputs": [],
   "source": [
    "# Configuración\n",
    "MODELOS = [\"mistral\", \"gemma3:4b\", \"gemma3:12b\", \"llama3.1:8b\", \"deepseek-r1:7b\"]\n",
    "N_PARTIDOS = 6\n",
    "\n",
    "# Rutas\n",
    "DATASET_PATH = \"../data/dataset/dataset_updated.json\""
   ]
  },
  {
   "cell_type": "code",
   "execution_count": 3,
   "id": "3a55efd4",
   "metadata": {},
   "outputs": [],
   "source": [
    "# Cargar resúmenes reales (referencias)\n",
    "def cargar_referencias(ids_partidos):\n",
    "    with open(DATASET_PATH, \"r\", encoding=\"utf-8\") as f:\n",
    "        dataset = json.load(f)\n",
    "    referencias = {}\n",
    "    for id in ids_partidos:\n",
    "        resumen_ref_raw = dataset[id][\"pdf_sections\"].get(\"resumen_final\", \"\")\n",
    "        resumen_ref = str(resumen_ref_raw).strip()\n",
    "        if resumen_ref:\n",
    "            referencias[id] = resumen_ref\n",
    "    return referencias\n",
    "\n",
    "# Generar outputs a partir de contenido\n",
    "def generar_outputs_concatenado(modelo, contenidos):\n",
    "    resumen_arbitro = contenidos[\"arbitro\"]\n",
    "    resumen_asistente_1 = contenidos[\"asistente_1\"]\n",
    "    resumen_asistente_2 = contenidos[\"asistente_2\"]\n",
    "    resumen_cuarto_arbitro = contenidos[\"cuarto_arbitro\"]\n",
    "\n",
    "    prompt = f\"\"\"\n",
    "            Eres un experto en arbitraje de fútbol. Resume el contenido que te voy a proporcionar en español, de manera profesional y concisa:\n",
    "\n",
    "            **Árbitro**:\n",
    "            {resumen_arbitro}\n",
    "\n",
    "            **Asistente 1**:\n",
    "            {resumen_asistente_1}\n",
    "\n",
    "            **Asistente 2**:\n",
    "            {resumen_asistente_2}\n",
    "\n",
    "            **Cuarto árbitro**:\n",
    "            {resumen_cuarto_arbitro}\n",
    "            \"\"\"\n",
    "    respuesta = ollama.chat(model=modelo, messages=[\n",
    "        {'role': 'system', 'content': 'Eres un experto en arbitraje de fútbol y redacción profesional en español.'},\n",
    "        {'role': 'user', 'content': prompt}\n",
    "    ])\n",
    "    return respuesta['message']['content']\n",
    "\n",
    "# Evaluación con ROUGE\n",
    "def evaluar_rouge(predicciones, referencias):\n",
    "    rouge = evaluate.load(\"rouge\")\n",
    "    return rouge.compute(predictions=predicciones, references=referencias)\n",
    "\n",
    "# Evaluación con BERTScore\n",
    "def evaluar_bertscore(predicciones, referencias):\n",
    "    P, R, F1 = bertscore(predicciones, referencias, lang=\"es\")\n",
    "    return {\n",
    "        \"bert_precision\": P.mean().item(),\n",
    "        \"bert_recall\": R.mean().item(),\n",
    "        \"bert_f1\": F1.mean().item()\n",
    "    }"
   ]
  },
  {
   "cell_type": "markdown",
   "id": "d63be0f9",
   "metadata": {},
   "source": [
    "## Evaluación"
   ]
  },
  {
   "cell_type": "code",
   "execution_count": 4,
   "id": "b7e925a3",
   "metadata": {},
   "outputs": [
    {
     "name": "stderr",
     "output_type": "stream",
     "text": [
      "Generando (mistral): 100%|██████████| 6/6 [00:35<00:00,  5.92s/it]\n",
      "Generando (gemma3:4b): 100%|██████████| 6/6 [00:46<00:00,  7.81s/it]\n",
      "Generando (gemma3:12b): 100%|██████████| 6/6 [02:28<00:00, 24.81s/it]\n",
      "Generando (llama3.1:8b): 100%|██████████| 6/6 [00:40<00:00,  6.81s/it]\n",
      "Generando (deepseek-r1:7b): 100%|██████████| 6/6 [01:04<00:00, 10.75s/it]\n"
     ]
    }
   ],
   "source": [
    "resumenes_pdf = generar_resumen_pdf()\n",
    "ids = list(resumenes_pdf.keys())[:N_PARTIDOS]\n",
    "partidos = {id: resumenes_pdf[id] for id in ids}\n",
    "referencias_dict = cargar_referencias(ids)\n",
    "referencias_lista = [referencias_dict[i] for i in ids]\n",
    "\n",
    "# Evaluación\n",
    "resultados_modelos = {}\n",
    "predicciones_modelos = {}\n",
    "\n",
    "for modelo in MODELOS:\n",
    "    predicciones = []\n",
    "    for id in tqdm(ids, desc=f\"Generando ({modelo})\"):\n",
    "        contenido = partidos[id]\n",
    "        salida = generar_outputs_concatenado(modelo, contenido)\n",
    "        predicciones.append(salida)\n",
    "    predicciones_modelos[modelo] = predicciones\n",
    "    rouge_scores = evaluar_rouge(predicciones, referencias_lista)\n",
    "    bert_scores = evaluar_bertscore(predicciones, referencias_lista)\n",
    "    resultados_modelos[modelo] = {\n",
    "        \"ROUGE-1\": rouge_scores[\"rouge1\"],\n",
    "        \"ROUGE-2\": rouge_scores[\"rouge2\"],\n",
    "        \"ROUGE-L\": rouge_scores[\"rougeL\"],\n",
    "        \"BERTScore-P\": bert_scores[\"bert_precision\"],\n",
    "        \"BERTScore-R\": bert_scores[\"bert_recall\"],\n",
    "        \"BERTScore-F1\": bert_scores[\"bert_f1\"],\n",
    "    }"
   ]
  },
  {
   "cell_type": "markdown",
   "id": "5d87dfb3",
   "metadata": {},
   "source": [
    "## Resultados gráficos"
   ]
  },
  {
   "cell_type": "code",
   "execution_count": 5,
   "id": "5a042aa3",
   "metadata": {},
   "outputs": [
    {
     "data": {
      "image/png": "[encoded data removed]",
      "text/plain": [
       "<Figure size 1200x600 with 1 Axes>"
      ]
     },
     "metadata": {},
     "output_type": "display_data"
    }
   ],
   "source": [
    "# Visualización\n",
    "df_resultados = pd.DataFrame(resultados_modelos).T.reset_index().rename(columns={\"index\": \"Modelo\"})\n",
    "df_resultados_melt = df_resultados.melt(id_vars=[\"Modelo\"], var_name=\"Métrica\", value_name=\"Valor\")\n",
    "\n",
    "plt.figure(figsize=(12, 6))\n",
    "sns.barplot(data=df_resultados_melt, x=\"Métrica\", y=\"Valor\", hue=\"Modelo\")\n",
    "plt.title(\"Comparativa de modelos por métricas automáticas\")\n",
    "plt.xticks(rotation=45)\n",
    "plt.tight_layout()\n",
    "plt.show()"
   ]
  },
  {
   "cell_type": "markdown",
   "id": "bc1f6209",
   "metadata": {},
   "source": [
    "Añadir comentarios de los resultados"
   ]
  },
  {
   "cell_type": "markdown",
   "id": "9336d90f",
   "metadata": {},
   "source": [
    "## Evaluación humana"
   ]
  },
  {
   "cell_type": "code",
   "execution_count": null,
   "id": "5a1d7cbc",
   "metadata": {},
   "outputs": [],
   "source": [
    "#TODO: Añadir evaluación humana"
   ]
  }
 ],
 "metadata": {
  "kernelspec": {
   "display_name": "vtfm",
   "language": "python",
   "name": "python3"
  },
  "language_info": {
   "codemirror_mode": {
    "name": "ipython",
    "version": 3
   },
   "file_extension": ".py",
   "mimetype": "text/x-python",
   "name": "python",
   "nbconvert_exporter": "python",
   "pygments_lexer": "ipython3",
   "version": "3.12.3"
  }
 },
 "nbformat": 4,
 "nbformat_minor": 5
}
